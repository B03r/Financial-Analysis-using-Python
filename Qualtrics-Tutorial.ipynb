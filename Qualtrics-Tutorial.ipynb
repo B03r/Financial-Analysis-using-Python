{
 "cells": [
  {
   "cell_type": "markdown",
   "metadata": {},
   "source": [
    "<br>\n",
    "\n",
    "First, we will import several necessary Python packages. We will be using the <a href=\"http://pandas.pydata.org/\">Python Data Analysis Library,</a> or <i>PANDAS</i>, extensively for our data manipulations. It is invaluable for analyzing datasets. "
   ]
  },
  {
   "cell_type": "markdown",
   "metadata": {},
   "source": [
    "### Import Packages"
   ]
  },
  {
   "cell_type": "code",
   "execution_count": 1,
   "metadata": {
    "collapsed": true
   },
   "outputs": [],
   "source": [
    "import numpy as np\n",
    "import pandas as pd\n",
    "\n",
    "from pandas import DataFrame\n",
    "from pandas import Series"
   ]
  },
  {
   "cell_type": "markdown",
   "metadata": {},
   "source": [
    "<br>\n",
    "\n",
    "We can check which version of various packages we're using. You can see I'm running PANDAS 0.17 here."
   ]
  },
  {
   "cell_type": "code",
   "execution_count": 2,
   "metadata": {
    "collapsed": false
   },
   "outputs": [
    {
     "name": "stdout",
     "output_type": "stream",
     "text": [
      "0.17.1\n"
     ]
    }
   ],
   "source": [
    "print pd.__version__"
   ]
  },
  {
   "cell_type": "markdown",
   "metadata": {},
   "source": [
    "<br>\n",
    "\n",
    "PANDAS allows you to set various options for, among other things, inspecting the data. I like to be able to see all of the columns. Therefore, I typically include this line at the top of all my notebooks."
   ]
  },
  {
   "cell_type": "code",
   "execution_count": 3,
   "metadata": {
    "collapsed": true
   },
   "outputs": [],
   "source": [
    "#http://pandas.pydata.org/pandas-docs/stable/options.html\n",
    "pd.set_option('display.max_columns', None)\n",
    "pd.set_option('max_colwidth', 200)"
   ]
  },
  {
   "cell_type": "markdown",
   "metadata": {},
   "source": [
    "<br>The next four lines are for various graphing options"
   ]
  },
  {
   "cell_type": "code",
   "execution_count": 4,
   "metadata": {
    "collapsed": true
   },
   "outputs": [],
   "source": [
    "import matplotlib.pyplot as plt"
   ]
  },
  {
   "cell_type": "code",
   "execution_count": 5,
   "metadata": {
    "collapsed": true
   },
   "outputs": [],
   "source": [
    "#NECESSARY FOR XTICKS OPTION, ETC.\n",
    "from pylab import*"
   ]
  },
  {
   "cell_type": "code",
   "execution_count": 6,
   "metadata": {
    "collapsed": true
   },
   "outputs": [],
   "source": [
    "%matplotlib inline  "
   ]
  },
  {
   "cell_type": "code",
   "execution_count": 8,
   "metadata": {
    "collapsed": false
   },
   "outputs": [
    {
     "name": "stdout",
     "output_type": "stream",
     "text": [
      "0.6.0\n"
     ]
    }
   ],
   "source": [
    "import seaborn as sns\n",
    "print sns.__version__"
   ]
  },
  {
   "cell_type": "code",
   "execution_count": 9,
   "metadata": {
    "collapsed": true
   },
   "outputs": [],
   "source": [
    "plt.rcParams['figure.figsize'] = (10, 7.5)"
   ]
  },
  {
   "cell_type": "markdown",
   "metadata": {},
   "source": [
    "<br>To make sure PANDAS always returns a float"
   ]
  },
  {
   "cell_type": "code",
   "execution_count": 10,
   "metadata": {
    "collapsed": true
   },
   "outputs": [],
   "source": [
    "from __future__ import division"
   ]
  },
  {
   "cell_type": "markdown",
   "metadata": {},
   "source": [
    "<br>I like suppressing scientific notation in my numbers. So, if you'd rather see \"0.48\" than \"4.800000e-01\", then run the following line. Note that this does not change the actual values. For outputting to CSV we'll have to run some additional code later on."
   ]
  },
  {
   "cell_type": "code",
   "execution_count": 11,
   "metadata": {
    "collapsed": true
   },
   "outputs": [],
   "source": [
    "pd.set_option('display.float_format', lambda x: '%.2f' % x)"
   ]
  },
  {
   "cell_type": "markdown",
   "metadata": {},
   "source": [
    "### Read in Data"
   ]
  },
  {
   "cell_type": "markdown",
   "metadata": {},
   "source": [
    "PANDAS can read in data from a variety of different data types. You will read in a CSV file containing data from the Qualtrics survey you took last class.\n",
    "\n",
    "In the following four lines we'll first import the CSV file and assign it to the name 'df' -- short for 'dataframe', the PANDAS name for a dataset. Second, we'll use the <i>len</i> function to see how many columns (variables) there are in the dataset, then we'll use the <i>len</i> function again to see how many rows (students) there are in the dataset; there are 43 observations in total. Finally, we will show the 'head' of the dataset -- the first 5 rows."
   ]
  },
  {
   "cell_type": "code",
   "execution_count": 74,
   "metadata": {
    "collapsed": false
   },
   "outputs": [
    {
     "name": "stdout",
     "output_type": "stream",
     "text": [
      "# of columns: 4\n",
      "# of observations: 43\n"
     ]
    },
    {
     "data": {
      "text/html": [
       "<div>\n",
       "<table border=\"1\" class=\"dataframe\">\n",
       "  <thead>\n",
       "    <tr style=\"text-align: right;\">\n",
       "      <th></th>\n",
       "      <th>Recorded Date</th>\n",
       "      <th>Sleep</th>\n",
       "      <th>Happiness</th>\n",
       "      <th>Gender</th>\n",
       "    </tr>\n",
       "  </thead>\n",
       "  <tbody>\n",
       "    <tr>\n",
       "      <th>0</th>\n",
       "      <td>2016-06-27T05:15:03Z</td>\n",
       "      <td>5.00</td>\n",
       "      <td>5</td>\n",
       "      <td>Female</td>\n",
       "    </tr>\n",
       "    <tr>\n",
       "      <th>1</th>\n",
       "      <td>2016-06-27T05:13:18Z</td>\n",
       "      <td>7.50</td>\n",
       "      <td>4</td>\n",
       "      <td>Female</td>\n",
       "    </tr>\n",
       "    <tr>\n",
       "      <th>2</th>\n",
       "      <td>2016-06-27T05:12:54Z</td>\n",
       "      <td>4.75</td>\n",
       "      <td>3</td>\n",
       "      <td>Male</td>\n",
       "    </tr>\n",
       "    <tr>\n",
       "      <th>3</th>\n",
       "      <td>2016-06-27T05:12:52Z</td>\n",
       "      <td>4.00</td>\n",
       "      <td>2</td>\n",
       "      <td>Male</td>\n",
       "    </tr>\n",
       "    <tr>\n",
       "      <th>4</th>\n",
       "      <td>2016-06-27T05:12:31Z</td>\n",
       "      <td>6.00</td>\n",
       "      <td>5</td>\n",
       "      <td>Female</td>\n",
       "    </tr>\n",
       "  </tbody>\n",
       "</table>\n",
       "</div>"
      ],
      "text/plain": [
       "          Recorded Date  Sleep  Happiness  Gender\n",
       "0  2016-06-27T05:15:03Z   5.00          5  Female\n",
       "1  2016-06-27T05:13:18Z   7.50          4  Female\n",
       "2  2016-06-27T05:12:54Z   4.75          3    Male\n",
       "3  2016-06-27T05:12:52Z   4.00          2    Male\n",
       "4  2016-06-27T05:12:31Z   6.00          5  Female"
      ]
     },
     "execution_count": 74,
     "metadata": {},
     "output_type": "execute_result"
    }
   ],
   "source": [
    "df = pd.read_csv('http://social-metrics.org/wp-content/uploads/2016/06/COM205_June-27-2016_01.18.csv')\n",
    "print '# of columns:', len(df.columns)\n",
    "print '# of observations:', len(df)\n",
    "df.head()"
   ]
  },
  {
   "cell_type": "markdown",
   "metadata": {},
   "source": [
    "<br>The opposite of 'head' is 'tail' -- we can use it to inspect the last few observations in the dataframe. As a default 5 rows are chosen; here let's specify 2 rows. "
   ]
  },
  {
   "cell_type": "code",
   "execution_count": 76,
   "metadata": {
    "collapsed": false
   },
   "outputs": [
    {
     "data": {
      "text/html": [
       "<div>\n",
       "<table border=\"1\" class=\"dataframe\">\n",
       "  <thead>\n",
       "    <tr style=\"text-align: right;\">\n",
       "      <th></th>\n",
       "      <th>Recorded Date</th>\n",
       "      <th>Sleep</th>\n",
       "      <th>Happiness</th>\n",
       "      <th>Gender</th>\n",
       "    </tr>\n",
       "  </thead>\n",
       "  <tbody>\n",
       "    <tr>\n",
       "      <th>41</th>\n",
       "      <td>2016-06-26T14:54:50Z</td>\n",
       "      <td>8.50</td>\n",
       "      <td>5</td>\n",
       "      <td>Female</td>\n",
       "    </tr>\n",
       "    <tr>\n",
       "      <th>42</th>\n",
       "      <td>2016-06-26T10:10:44Z</td>\n",
       "      <td>8.20</td>\n",
       "      <td>4</td>\n",
       "      <td>Male</td>\n",
       "    </tr>\n",
       "  </tbody>\n",
       "</table>\n",
       "</div>"
      ],
      "text/plain": [
       "           Recorded Date  Sleep  Happiness  Gender\n",
       "41  2016-06-26T14:54:50Z   8.50          5  Female\n",
       "42  2016-06-26T10:10:44Z   8.20          4    Male"
      ]
     },
     "execution_count": 76,
     "metadata": {},
     "output_type": "execute_result"
    }
   ],
   "source": [
    "df.tail(2)"
   ]
  },
  {
   "cell_type": "markdown",
   "metadata": {},
   "source": [
    "#### Inspect Data Types for Columns\n",
    "In PANDAS *object* indicates text columns and *int64* and *float64* indicate numerical data."
   ]
  },
  {
   "cell_type": "code",
   "execution_count": 15,
   "metadata": {
    "collapsed": false
   },
   "outputs": [
    {
     "data": {
      "text/plain": [
       "Recorded Date     object\n",
       "Sleep            float64\n",
       "Happiness          int64\n",
       "Gender            object\n",
       "dtype: object"
      ]
     },
     "execution_count": 15,
     "metadata": {},
     "output_type": "execute_result"
    }
   ],
   "source": [
    "df.dtypes"
   ]
  },
  {
   "cell_type": "markdown",
   "metadata": {},
   "source": [
    "#### Describe the Data\n",
    "We can use the *describe* command to show the descriptive statistics (also known as *summary statistics*) for the numerical variables in the dataset."
   ]
  },
  {
   "cell_type": "code",
   "execution_count": 77,
   "metadata": {
    "collapsed": false
   },
   "outputs": [
    {
     "data": {
      "text/html": [
       "<div>\n",
       "<table border=\"1\" class=\"dataframe\">\n",
       "  <thead>\n",
       "    <tr style=\"text-align: right;\">\n",
       "      <th></th>\n",
       "      <th>count</th>\n",
       "      <th>mean</th>\n",
       "      <th>std</th>\n",
       "      <th>min</th>\n",
       "      <th>25%</th>\n",
       "      <th>50%</th>\n",
       "      <th>75%</th>\n",
       "      <th>max</th>\n",
       "    </tr>\n",
       "  </thead>\n",
       "  <tbody>\n",
       "    <tr>\n",
       "      <th>Sleep</th>\n",
       "      <td>43.00</td>\n",
       "      <td>5.48</td>\n",
       "      <td>1.76</td>\n",
       "      <td>1.25</td>\n",
       "      <td>4.50</td>\n",
       "      <td>5.25</td>\n",
       "      <td>6.75</td>\n",
       "      <td>9.00</td>\n",
       "    </tr>\n",
       "    <tr>\n",
       "      <th>Happiness</th>\n",
       "      <td>43.00</td>\n",
       "      <td>3.67</td>\n",
       "      <td>1.06</td>\n",
       "      <td>1.00</td>\n",
       "      <td>3.00</td>\n",
       "      <td>4.00</td>\n",
       "      <td>4.50</td>\n",
       "      <td>5.00</td>\n",
       "    </tr>\n",
       "  </tbody>\n",
       "</table>\n",
       "</div>"
      ],
      "text/plain": [
       "           count  mean  std  min  25%  50%  75%  max\n",
       "Sleep      43.00  5.48 1.76 1.25 4.50 5.25 6.75 9.00\n",
       "Happiness  43.00  3.67 1.06 1.00 3.00 4.00 4.50 5.00"
      ]
     },
     "execution_count": 77,
     "metadata": {},
     "output_type": "execute_result"
    }
   ],
   "source": [
    "df.describe().T"
   ]
  },
  {
   "cell_type": "markdown",
   "metadata": {},
   "source": [
    "### Plot Data - Boxplots"
   ]
  },
  {
   "cell_type": "code",
   "execution_count": 16,
   "metadata": {
    "collapsed": false
   },
   "outputs": [
    {
     "data": {
      "text/plain": [
       "<matplotlib.axes._subplots.AxesSubplot at 0x11040c210>"
      ]
     },
     "execution_count": 16,
     "metadata": {},
     "output_type": "execute_result"
    },
    {
     "data": {
      "image/png": "[encoded data removed]",
      "text/plain": [
       "<matplotlib.figure.Figure at 0x1103e0dd0>"
      ]
     },
     "metadata": {},
     "output_type": "display_data"
    }
   ],
   "source": [
    "df.boxplot('Sleep', return_type='axes')"
   ]
  },
  {
   "cell_type": "code",
   "execution_count": 17,
   "metadata": {
    "collapsed": false
   },
   "outputs": [
    {
     "data": {
      "text/plain": [
       "<matplotlib.axes._subplots.AxesSubplot at 0x10a0f9610>"
      ]
     },
     "execution_count": 17,
     "metadata": {},
     "output_type": "execute_result"
    },
    {
     "data": {
      "image/png": "[encoded data removed]",
      "text/plain": [
       "<matplotlib.figure.Figure at 0x10a1b3850>"
      ]
     },
     "metadata": {},
     "output_type": "display_data"
    }
   ],
   "source": [
    "df.boxplot('Happiness', return_type='axes')"
   ]
  },
  {
   "cell_type": "markdown",
   "metadata": {},
   "source": [
    "### Plot Hours of Sleep by Gender"
   ]
  },
  {
   "cell_type": "code",
   "execution_count": 18,
   "metadata": {
    "collapsed": false
   },
   "outputs": [
    {
     "data": {
      "text/plain": [
       "<matplotlib.axes._subplots.AxesSubplot at 0x10b226a90>"
      ]
     },
     "execution_count": 18,
     "metadata": {},
     "output_type": "execute_result"
    },
    {
     "data": {
      "image/png": "[encoded data removed]",
      "text/plain": [
       "<matplotlib.figure.Figure at 0x10b23f7d0>"
      ]
     },
     "metadata": {},
     "output_type": "display_data"
    }
   ],
   "source": [
    "df.boxplot(column='Sleep', by='Gender')"
   ]
  },
  {
   "cell_type": "markdown",
   "metadata": {},
   "source": [
    "### Recode Sleep"
   ]
  },
  {
   "cell_type": "markdown",
   "metadata": {},
   "source": [
    "#### Variable Frequencies\n",
    "\n",
    "Before recoding the variable, let's first take a look at the frequencies for the different values of the variable. To see the frequencies for the different values of a variable, use the *value_counts()* command."
   ]
  },
  {
   "cell_type": "code",
   "execution_count": 78,
   "metadata": {
    "collapsed": false
   },
   "outputs": [
    {
     "data": {
      "text/plain": [
       "5.00    6\n",
       "7.50    4\n",
       "6.00    4\n",
       "5.25    3\n",
       "4.50    3\n",
       "4.00    3\n",
       "6.50    3\n",
       "7.00    3\n",
       "4.25    1\n",
       "5.50    1\n",
       "3.50    1\n",
       "3.35    1\n",
       "6.25    1\n",
       "1.25    1\n",
       "8.50    1\n",
       "9.00    1\n",
       "2.00    1\n",
       "8.20    1\n",
       "2.50    1\n",
       "3.00    1\n",
       "4.75    1\n",
       "8.00    1\n",
       "Name: Sleep, dtype: int64"
      ]
     },
     "execution_count": 78,
     "metadata": {},
     "output_type": "execute_result"
    }
   ],
   "source": [
    "df['Sleep'].value_counts()"
   ]
  },
  {
   "cell_type": "markdown",
   "metadata": {},
   "source": [
    "<br>Let's also take a look at a bar graph of the amount of sleep each student got. To get a more informative plot, we'll first *sort* the dataset and then plot it. We indicate a *bar* graph in the code. "
   ]
  },
  {
   "cell_type": "code",
   "execution_count": 84,
   "metadata": {
    "collapsed": false
   },
   "outputs": [
    {
     "data": {
      "text/plain": [
       "<matplotlib.axes._subplots.AxesSubplot at 0x1129addd0>"
      ]
     },
     "execution_count": 84,
     "metadata": {},
     "output_type": "execute_result"
    },
    {
     "data": {
      "image/png": "[encoded data removed]",
      "text/plain": [
       "<matplotlib.figure.Figure at 0x111e32090>"
      ]
     },
     "metadata": {},
     "output_type": "display_data"
    }
   ],
   "source": [
    "df.sort_values(by=['Sleep'], ascending=False)['Sleep'].plot(kind='bar')"
   ]
  },
  {
   "cell_type": "markdown",
   "metadata": {},
   "source": [
    "<br>Based on the above plot, let's set the threshold at 6 hours of sleep per night. Those who got six or fewer hours of sleep per night will be considered 'low sleep', while everyone else will be considered 'normal' (or 'not low sleep').\n",
    "\n",
    "What we will do in the following line of code is create a new dichotomous variable (also known as a *binary variable* or a *dummy variable*) called *Low_Sleep*. Numpy's *where* function is used to assign a value of *1* to all observations where the student got 6 or fewer hours of sleep, otherwise the student is coded as *0* on the variable *Low_Sleep*."
   ]
  },
  {
   "cell_type": "code",
   "execution_count": 86,
   "metadata": {
    "collapsed": true
   },
   "outputs": [],
   "source": [
    "df['Low_Sleep'] = np.where(df['Sleep']<=6, 1, 0)"
   ]
  },
  {
   "cell_type": "markdown",
   "metadata": {},
   "source": [
    "<br>It's always a good idea to confirm that you're recoding worked as expected. Let's do a *cross-tabulation* between the original and the newly recoded variables. "
   ]
  },
  {
   "cell_type": "code",
   "execution_count": 87,
   "metadata": {
    "collapsed": false
   },
   "outputs": [
    {
     "data": {
      "text/html": [
       "<div>\n",
       "<table border=\"1\" class=\"dataframe\">\n",
       "  <thead>\n",
       "    <tr style=\"text-align: right;\">\n",
       "      <th>Sleep</th>\n",
       "      <th>1.25</th>\n",
       "      <th>2.0</th>\n",
       "      <th>2.5</th>\n",
       "      <th>3.0</th>\n",
       "      <th>3.35</th>\n",
       "      <th>3.5</th>\n",
       "      <th>4.0</th>\n",
       "      <th>4.25</th>\n",
       "      <th>4.5</th>\n",
       "      <th>4.75</th>\n",
       "      <th>5.0</th>\n",
       "      <th>5.25</th>\n",
       "      <th>5.5</th>\n",
       "      <th>6.0</th>\n",
       "      <th>6.25</th>\n",
       "      <th>6.5</th>\n",
       "      <th>7.0</th>\n",
       "      <th>7.5</th>\n",
       "      <th>8.0</th>\n",
       "      <th>8.2</th>\n",
       "      <th>8.5</th>\n",
       "      <th>9.0</th>\n",
       "    </tr>\n",
       "    <tr>\n",
       "      <th>Low_Sleep</th>\n",
       "      <th></th>\n",
       "      <th></th>\n",
       "      <th></th>\n",
       "      <th></th>\n",
       "      <th></th>\n",
       "      <th></th>\n",
       "      <th></th>\n",
       "      <th></th>\n",
       "      <th></th>\n",
       "      <th></th>\n",
       "      <th></th>\n",
       "      <th></th>\n",
       "      <th></th>\n",
       "      <th></th>\n",
       "      <th></th>\n",
       "      <th></th>\n",
       "      <th></th>\n",
       "      <th></th>\n",
       "      <th></th>\n",
       "      <th></th>\n",
       "      <th></th>\n",
       "      <th></th>\n",
       "    </tr>\n",
       "  </thead>\n",
       "  <tbody>\n",
       "    <tr>\n",
       "      <th>0</th>\n",
       "      <td>0</td>\n",
       "      <td>0</td>\n",
       "      <td>0</td>\n",
       "      <td>0</td>\n",
       "      <td>0</td>\n",
       "      <td>0</td>\n",
       "      <td>0</td>\n",
       "      <td>0</td>\n",
       "      <td>0</td>\n",
       "      <td>0</td>\n",
       "      <td>0</td>\n",
       "      <td>0</td>\n",
       "      <td>0</td>\n",
       "      <td>0</td>\n",
       "      <td>1</td>\n",
       "      <td>3</td>\n",
       "      <td>3</td>\n",
       "      <td>4</td>\n",
       "      <td>1</td>\n",
       "      <td>1</td>\n",
       "      <td>1</td>\n",
       "      <td>1</td>\n",
       "    </tr>\n",
       "    <tr>\n",
       "      <th>1</th>\n",
       "      <td>1</td>\n",
       "      <td>1</td>\n",
       "      <td>1</td>\n",
       "      <td>1</td>\n",
       "      <td>1</td>\n",
       "      <td>1</td>\n",
       "      <td>3</td>\n",
       "      <td>1</td>\n",
       "      <td>3</td>\n",
       "      <td>1</td>\n",
       "      <td>6</td>\n",
       "      <td>3</td>\n",
       "      <td>1</td>\n",
       "      <td>4</td>\n",
       "      <td>0</td>\n",
       "      <td>0</td>\n",
       "      <td>0</td>\n",
       "      <td>0</td>\n",
       "      <td>0</td>\n",
       "      <td>0</td>\n",
       "      <td>0</td>\n",
       "      <td>0</td>\n",
       "    </tr>\n",
       "  </tbody>\n",
       "</table>\n",
       "</div>"
      ],
      "text/plain": [
       "Sleep      1.25  2.00  2.50  3.00  3.35  3.50  4.00  4.25  4.50  4.75  5.00  \\\n",
       "Low_Sleep                                                                     \n",
       "0             0     0     0     0     0     0     0     0     0     0     0   \n",
       "1             1     1     1     1     1     1     3     1     3     1     6   \n",
       "\n",
       "Sleep      5.25  5.50  6.00  6.25  6.50  7.00  7.50  8.00  8.20  8.50  9.00  \n",
       "Low_Sleep                                                                    \n",
       "0             0     0     0     1     3     3     4     1     1     1     1  \n",
       "1             3     1     4     0     0     0     0     0     0     0     0  "
      ]
     },
     "execution_count": 87,
     "metadata": {},
     "output_type": "execute_result"
    }
   ],
   "source": [
    "pd.crosstab(df['Low_Sleep'], df['Sleep'])"
   ]
  },
  {
   "cell_type": "markdown",
   "metadata": {},
   "source": [
    "<br>We can also do a *conditional* cross-tab to see the same result in a compressed format."
   ]
  },
  {
   "cell_type": "code",
   "execution_count": 88,
   "metadata": {
    "collapsed": false
   },
   "outputs": [
    {
     "data": {
      "text/html": [
       "<div>\n",
       "<table border=\"1\" class=\"dataframe\">\n",
       "  <thead>\n",
       "    <tr style=\"text-align: right;\">\n",
       "      <th>Sleep</th>\n",
       "      <th>False</th>\n",
       "      <th>True</th>\n",
       "    </tr>\n",
       "    <tr>\n",
       "      <th>Low_Sleep</th>\n",
       "      <th></th>\n",
       "      <th></th>\n",
       "    </tr>\n",
       "  </thead>\n",
       "  <tbody>\n",
       "    <tr>\n",
       "      <th>0</th>\n",
       "      <td>15</td>\n",
       "      <td>0</td>\n",
       "    </tr>\n",
       "    <tr>\n",
       "      <th>1</th>\n",
       "      <td>0</td>\n",
       "      <td>28</td>\n",
       "    </tr>\n",
       "  </tbody>\n",
       "</table>\n",
       "</div>"
      ],
      "text/plain": [
       "Sleep      False  True \n",
       "Low_Sleep              \n",
       "0             15      0\n",
       "1              0     28"
      ]
     },
     "execution_count": 88,
     "metadata": {},
     "output_type": "execute_result"
    }
   ],
   "source": [
    "pd.crosstab(df['Low_Sleep'], df['Sleep']<=6)"
   ]
  },
  {
   "cell_type": "markdown",
   "metadata": {},
   "source": [
    "<br>Let's plot *Happiness* level by the new variable *Low_Sleep*"
   ]
  },
  {
   "cell_type": "code",
   "execution_count": 89,
   "metadata": {
    "collapsed": false
   },
   "outputs": [
    {
     "data": {
      "text/plain": [
       "<matplotlib.axes._subplots.AxesSubplot at 0x1135cb5d0>"
      ]
     },
     "execution_count": 89,
     "metadata": {},
     "output_type": "execute_result"
    },
    {
     "data": {
      "image/png": "[encoded data removed]",
      "text/plain": [
       "<matplotlib.figure.Figure at 0x1135b7910>"
      ]
     },
     "metadata": {},
     "output_type": "display_data"
    }
   ],
   "source": [
    "df.boxplot(column='Happiness', by='Low_Sleep')"
   ]
  },
  {
   "cell_type": "markdown",
   "metadata": {},
   "source": [
    "### Recode Happiness"
   ]
  },
  {
   "cell_type": "code",
   "execution_count": 90,
   "metadata": {
    "collapsed": false
   },
   "outputs": [
    {
     "data": {
      "text/html": [
       "<div>\n",
       "<table border=\"1\" class=\"dataframe\">\n",
       "  <thead>\n",
       "    <tr style=\"text-align: right;\">\n",
       "      <th></th>\n",
       "      <th>Recorded Date</th>\n",
       "      <th>Sleep</th>\n",
       "      <th>Happiness</th>\n",
       "      <th>Gender</th>\n",
       "      <th>Low_Sleep</th>\n",
       "    </tr>\n",
       "  </thead>\n",
       "  <tbody>\n",
       "    <tr>\n",
       "      <th>0</th>\n",
       "      <td>2016-06-27T05:15:03Z</td>\n",
       "      <td>5.00</td>\n",
       "      <td>5</td>\n",
       "      <td>Female</td>\n",
       "      <td>1</td>\n",
       "    </tr>\n",
       "    <tr>\n",
       "      <th>1</th>\n",
       "      <td>2016-06-27T05:13:18Z</td>\n",
       "      <td>7.50</td>\n",
       "      <td>4</td>\n",
       "      <td>Female</td>\n",
       "      <td>0</td>\n",
       "    </tr>\n",
       "  </tbody>\n",
       "</table>\n",
       "</div>"
      ],
      "text/plain": [
       "          Recorded Date  Sleep  Happiness  Gender  Low_Sleep\n",
       "0  2016-06-27T05:15:03Z   5.00          5  Female          1\n",
       "1  2016-06-27T05:13:18Z   7.50          4  Female          0"
      ]
     },
     "execution_count": 90,
     "metadata": {},
     "output_type": "execute_result"
    }
   ],
   "source": [
    "df.head(2)"
   ]
  },
  {
   "cell_type": "code",
   "execution_count": 91,
   "metadata": {
    "collapsed": false
   },
   "outputs": [
    {
     "data": {
      "text/plain": [
       "4    14\n",
       "3    12\n",
       "5    11\n",
       "2     5\n",
       "1     1\n",
       "Name: Happiness, dtype: int64"
      ]
     },
     "execution_count": 91,
     "metadata": {},
     "output_type": "execute_result"
    }
   ],
   "source": [
    "df['Happiness'].value_counts()"
   ]
  },
  {
   "cell_type": "markdown",
   "metadata": {},
   "source": [
    "<br>Recall that the *Happiness* variable had 5 values. 1-2 were 'sad faces', 3 was 'neutral', and 4-5 were 'smiley faces.' Accordingly, let's create a new variable, *Happy*, where values of greater than 3 (i.e., scores of 4 or 5) are given a score of *1* on the variable, while values of 1, 2, or 3 are assigned scores of *0* on the new variable *Happy*."
   ]
  },
  {
   "cell_type": "code",
   "execution_count": 92,
   "metadata": {
    "collapsed": false
   },
   "outputs": [
    {
     "data": {
      "text/html": [
       "<div>\n",
       "<table border=\"1\" class=\"dataframe\">\n",
       "  <thead>\n",
       "    <tr style=\"text-align: right;\">\n",
       "      <th></th>\n",
       "      <th>Recorded Date</th>\n",
       "      <th>Sleep</th>\n",
       "      <th>Happiness</th>\n",
       "      <th>Gender</th>\n",
       "      <th>Low_Sleep</th>\n",
       "      <th>Happy</th>\n",
       "    </tr>\n",
       "  </thead>\n",
       "  <tbody>\n",
       "    <tr>\n",
       "      <th>0</th>\n",
       "      <td>2016-06-27T05:15:03Z</td>\n",
       "      <td>5.00</td>\n",
       "      <td>5</td>\n",
       "      <td>Female</td>\n",
       "      <td>1</td>\n",
       "      <td>1</td>\n",
       "    </tr>\n",
       "    <tr>\n",
       "      <th>1</th>\n",
       "      <td>2016-06-27T05:13:18Z</td>\n",
       "      <td>7.50</td>\n",
       "      <td>4</td>\n",
       "      <td>Female</td>\n",
       "      <td>0</td>\n",
       "      <td>1</td>\n",
       "    </tr>\n",
       "    <tr>\n",
       "      <th>2</th>\n",
       "      <td>2016-06-27T05:12:54Z</td>\n",
       "      <td>4.75</td>\n",
       "      <td>3</td>\n",
       "      <td>Male</td>\n",
       "      <td>1</td>\n",
       "      <td>0</td>\n",
       "    </tr>\n",
       "    <tr>\n",
       "      <th>3</th>\n",
       "      <td>2016-06-27T05:12:52Z</td>\n",
       "      <td>4.00</td>\n",
       "      <td>2</td>\n",
       "      <td>Male</td>\n",
       "      <td>1</td>\n",
       "      <td>0</td>\n",
       "    </tr>\n",
       "    <tr>\n",
       "      <th>4</th>\n",
       "      <td>2016-06-27T05:12:31Z</td>\n",
       "      <td>6.00</td>\n",
       "      <td>5</td>\n",
       "      <td>Female</td>\n",
       "      <td>1</td>\n",
       "      <td>1</td>\n",
       "    </tr>\n",
       "  </tbody>\n",
       "</table>\n",
       "</div>"
      ],
      "text/plain": [
       "          Recorded Date  Sleep  Happiness  Gender  Low_Sleep  Happy\n",
       "0  2016-06-27T05:15:03Z   5.00          5  Female          1      1\n",
       "1  2016-06-27T05:13:18Z   7.50          4  Female          0      1\n",
       "2  2016-06-27T05:12:54Z   4.75          3    Male          1      0\n",
       "3  2016-06-27T05:12:52Z   4.00          2    Male          1      0\n",
       "4  2016-06-27T05:12:31Z   6.00          5  Female          1      1"
      ]
     },
     "execution_count": 92,
     "metadata": {},
     "output_type": "execute_result"
    }
   ],
   "source": [
    "df['Happy'] = np.where(df['Happiness']>3, 1, 0)\n",
    "df.head()"
   ]
  },
  {
   "cell_type": "markdown",
   "metadata": {},
   "source": [
    "<br>Once again, let's run some cross-tabulations to verify."
   ]
  },
  {
   "cell_type": "code",
   "execution_count": 93,
   "metadata": {
    "collapsed": false
   },
   "outputs": [
    {
     "data": {
      "text/html": [
       "<div>\n",
       "<table border=\"1\" class=\"dataframe\">\n",
       "  <thead>\n",
       "    <tr style=\"text-align: right;\">\n",
       "      <th>Happy</th>\n",
       "      <th>0</th>\n",
       "      <th>1</th>\n",
       "    </tr>\n",
       "    <tr>\n",
       "      <th>Happiness</th>\n",
       "      <th></th>\n",
       "      <th></th>\n",
       "    </tr>\n",
       "  </thead>\n",
       "  <tbody>\n",
       "    <tr>\n",
       "      <th>1</th>\n",
       "      <td>1</td>\n",
       "      <td>0</td>\n",
       "    </tr>\n",
       "    <tr>\n",
       "      <th>2</th>\n",
       "      <td>5</td>\n",
       "      <td>0</td>\n",
       "    </tr>\n",
       "    <tr>\n",
       "      <th>3</th>\n",
       "      <td>12</td>\n",
       "      <td>0</td>\n",
       "    </tr>\n",
       "    <tr>\n",
       "      <th>4</th>\n",
       "      <td>0</td>\n",
       "      <td>14</td>\n",
       "    </tr>\n",
       "    <tr>\n",
       "      <th>5</th>\n",
       "      <td>0</td>\n",
       "      <td>11</td>\n",
       "    </tr>\n",
       "  </tbody>\n",
       "</table>\n",
       "</div>"
      ],
      "text/plain": [
       "Happy       0   1\n",
       "Happiness        \n",
       "1           1   0\n",
       "2           5   0\n",
       "3          12   0\n",
       "4           0  14\n",
       "5           0  11"
      ]
     },
     "execution_count": 93,
     "metadata": {},
     "output_type": "execute_result"
    }
   ],
   "source": [
    "pd.crosstab(df['Happiness'], df['Happy'])"
   ]
  },
  {
   "cell_type": "code",
   "execution_count": 94,
   "metadata": {
    "collapsed": false
   },
   "outputs": [
    {
     "data": {
      "text/html": [
       "<div>\n",
       "<table border=\"1\" class=\"dataframe\">\n",
       "  <thead>\n",
       "    <tr style=\"text-align: right;\">\n",
       "      <th>Happy</th>\n",
       "      <th>0</th>\n",
       "      <th>1</th>\n",
       "    </tr>\n",
       "    <tr>\n",
       "      <th>Happiness</th>\n",
       "      <th></th>\n",
       "      <th></th>\n",
       "    </tr>\n",
       "  </thead>\n",
       "  <tbody>\n",
       "    <tr>\n",
       "      <th>False</th>\n",
       "      <td>18</td>\n",
       "      <td>0</td>\n",
       "    </tr>\n",
       "    <tr>\n",
       "      <th>True</th>\n",
       "      <td>0</td>\n",
       "      <td>25</td>\n",
       "    </tr>\n",
       "  </tbody>\n",
       "</table>\n",
       "</div>"
      ],
      "text/plain": [
       "Happy       0   1\n",
       "Happiness        \n",
       "False      18   0\n",
       "True        0  25"
      ]
     },
     "execution_count": 94,
     "metadata": {},
     "output_type": "execute_result"
    }
   ],
   "source": [
    "pd.crosstab(df['Happiness']>3, df['Happy'])"
   ]
  },
  {
   "cell_type": "markdown",
   "metadata": {},
   "source": [
    "### Recode Gender"
   ]
  },
  {
   "cell_type": "markdown",
   "metadata": {},
   "source": [
    "<br>Let's say you wanted to create a new variable called *Male*. You could use the same *np.where* command as above in order to help you do this. "
   ]
  },
  {
   "cell_type": "code",
   "execution_count": 95,
   "metadata": {
    "collapsed": false
   },
   "outputs": [
    {
     "data": {
      "text/html": [
       "<div>\n",
       "<table border=\"1\" class=\"dataframe\">\n",
       "  <thead>\n",
       "    <tr style=\"text-align: right;\">\n",
       "      <th></th>\n",
       "      <th>Recorded Date</th>\n",
       "      <th>Sleep</th>\n",
       "      <th>Happiness</th>\n",
       "      <th>Gender</th>\n",
       "      <th>Low_Sleep</th>\n",
       "      <th>Happy</th>\n",
       "      <th>Male</th>\n",
       "    </tr>\n",
       "  </thead>\n",
       "  <tbody>\n",
       "    <tr>\n",
       "      <th>0</th>\n",
       "      <td>2016-06-27T05:15:03Z</td>\n",
       "      <td>5.00</td>\n",
       "      <td>5</td>\n",
       "      <td>Female</td>\n",
       "      <td>1</td>\n",
       "      <td>1</td>\n",
       "      <td>0</td>\n",
       "    </tr>\n",
       "    <tr>\n",
       "      <th>1</th>\n",
       "      <td>2016-06-27T05:13:18Z</td>\n",
       "      <td>7.50</td>\n",
       "      <td>4</td>\n",
       "      <td>Female</td>\n",
       "      <td>0</td>\n",
       "      <td>1</td>\n",
       "      <td>0</td>\n",
       "    </tr>\n",
       "    <tr>\n",
       "      <th>2</th>\n",
       "      <td>2016-06-27T05:12:54Z</td>\n",
       "      <td>4.75</td>\n",
       "      <td>3</td>\n",
       "      <td>Male</td>\n",
       "      <td>1</td>\n",
       "      <td>0</td>\n",
       "      <td>1</td>\n",
       "    </tr>\n",
       "    <tr>\n",
       "      <th>3</th>\n",
       "      <td>2016-06-27T05:12:52Z</td>\n",
       "      <td>4.00</td>\n",
       "      <td>2</td>\n",
       "      <td>Male</td>\n",
       "      <td>1</td>\n",
       "      <td>0</td>\n",
       "      <td>1</td>\n",
       "    </tr>\n",
       "    <tr>\n",
       "      <th>4</th>\n",
       "      <td>2016-06-27T05:12:31Z</td>\n",
       "      <td>6.00</td>\n",
       "      <td>5</td>\n",
       "      <td>Female</td>\n",
       "      <td>1</td>\n",
       "      <td>1</td>\n",
       "      <td>0</td>\n",
       "    </tr>\n",
       "  </tbody>\n",
       "</table>\n",
       "</div>"
      ],
      "text/plain": [
       "          Recorded Date  Sleep  Happiness  Gender  Low_Sleep  Happy  Male\n",
       "0  2016-06-27T05:15:03Z   5.00          5  Female          1      1     0\n",
       "1  2016-06-27T05:13:18Z   7.50          4  Female          0      1     0\n",
       "2  2016-06-27T05:12:54Z   4.75          3    Male          1      0     1\n",
       "3  2016-06-27T05:12:52Z   4.00          2    Male          1      0     1\n",
       "4  2016-06-27T05:12:31Z   6.00          5  Female          1      1     0"
      ]
     },
     "execution_count": 95,
     "metadata": {},
     "output_type": "execute_result"
    }
   ],
   "source": [
    "df['Male'] = np.where(df['Gender']=='Male', 1, 0)\n",
    "df.head()"
   ]
  },
  {
   "cell_type": "markdown",
   "metadata": {},
   "source": [
    "<br>To verify, let's run a cross-tab of *Male* with *Gender*"
   ]
  },
  {
   "cell_type": "code",
   "execution_count": 97,
   "metadata": {
    "collapsed": false
   },
   "outputs": [
    {
     "data": {
      "text/html": [
       "<div>\n",
       "<table border=\"1\" class=\"dataframe\">\n",
       "  <thead>\n",
       "    <tr style=\"text-align: right;\">\n",
       "      <th>Gender</th>\n",
       "      <th>Female</th>\n",
       "      <th>Male</th>\n",
       "    </tr>\n",
       "    <tr>\n",
       "      <th>Male</th>\n",
       "      <th></th>\n",
       "      <th></th>\n",
       "    </tr>\n",
       "  </thead>\n",
       "  <tbody>\n",
       "    <tr>\n",
       "      <th>0</th>\n",
       "      <td>25</td>\n",
       "      <td>0</td>\n",
       "    </tr>\n",
       "    <tr>\n",
       "      <th>1</th>\n",
       "      <td>0</td>\n",
       "      <td>18</td>\n",
       "    </tr>\n",
       "  </tbody>\n",
       "</table>\n",
       "</div>"
      ],
      "text/plain": [
       "Gender  Female  Male\n",
       "Male                \n",
       "0           25     0\n",
       "1            0    18"
      ]
     },
     "execution_count": 97,
     "metadata": {},
     "output_type": "execute_result"
    }
   ],
   "source": [
    "pd.crosstab(df['Male'], df['Gender'])"
   ]
  },
  {
   "cell_type": "markdown",
   "metadata": {},
   "source": [
    "### Save New DataFrame"
   ]
  },
  {
   "cell_type": "markdown",
   "metadata": {},
   "source": [
    "If you'd like, you could save the dataframe in PANDAS' native format. It's called 'pickling' a file, so we'll give it the typical 'pkl' extension."
   ]
  },
  {
   "cell_type": "code",
   "execution_count": 98,
   "metadata": {
    "collapsed": false
   },
   "outputs": [],
   "source": [
    "df.to_pickle('Qualtrics Survey - COM205.pkl')"
   ]
  },
  {
   "cell_type": "markdown",
   "metadata": {
    "collapsed": true
   },
   "source": [
    "### T-Test"
   ]
  },
  {
   "cell_type": "markdown",
   "metadata": {},
   "source": [
    "<br>Let's now run some statistics. First, let's try a t-test on *Gender* and *Happiness*. Recall that a t-test is a test of the difference in *means* between two groups -- in this case, between men and women. \n",
    "\n",
    "Let's start by computing the means for men and for women, then print the result."
   ]
  },
  {
   "cell_type": "code",
   "execution_count": 99,
   "metadata": {
    "collapsed": false
   },
   "outputs": [
    {
     "name": "stdout",
     "output_type": "stream",
     "text": [
      "Mean Happiness Level for Men:   3.44444444444\n",
      "Mean Happiness Level for Women: 3.84\n"
     ]
    }
   ],
   "source": [
    "print \"Mean Happiness Level for Men:  \", df[df['Gender']=='Male']['Happiness'].mean()\n",
    "print \"Mean Happiness Level for Women:\", df[df['Gender']=='Female']['Happiness'].mean()"
   ]
  },
  {
   "cell_type": "markdown",
   "metadata": {},
   "source": [
    "<br>We can use a similar command, using *std( )* instead of *mean( )*, to get the standard deviations."
   ]
  },
  {
   "cell_type": "code",
   "execution_count": 42,
   "metadata": {
    "collapsed": false
   },
   "outputs": [
    {
     "name": "stdout",
     "output_type": "stream",
     "text": [
      "Standard Deviation of Happiness Level for Men:   0.921777197925\n",
      "Standard Deviation of Happiness Level for Women: 1.1430952133\n"
     ]
    }
   ],
   "source": [
    "print \"Standard Deviation of Happiness Level for Men:  \", df[df['Gender']=='Male']['Happiness'].std()\n",
    "print \"Standard Deviation of Happiness Level for Women:\", df[df['Gender']=='Female']['Happiness'].std()"
   ]
  },
  {
   "cell_type": "markdown",
   "metadata": {},
   "source": [
    "<br>We can also use the *len* function to get the number of observations for men and women."
   ]
  },
  {
   "cell_type": "code",
   "execution_count": 100,
   "metadata": {
    "collapsed": false
   },
   "outputs": [
    {
     "name": "stdout",
     "output_type": "stream",
     "text": [
      "Number of Observations for Men:   18\n",
      "Number of Observations for Women:   25\n"
     ]
    }
   ],
   "source": [
    "print \"Number of Observations for Men:  \",  len(df[df['Gender']=='Male'])\n",
    "print \"Number of Observations for Women:  \",  len(df[df['Gender']=='Female'])"
   ]
  },
  {
   "cell_type": "markdown",
   "metadata": {},
   "source": [
    "### Running the t-test: Manually Calculated Approach"
   ]
  },
  {
   "cell_type": "code",
   "execution_count": 101,
   "metadata": {
    "collapsed": false
   },
   "outputs": [
    {
     "name": "stdout",
     "output_type": "stream",
     "text": [
      "0.921777197925 1.1430952133\n"
     ]
    }
   ],
   "source": [
    "std_male = df[df['Gender']=='Male']['Happiness'].std()\n",
    "std_female = df[df['Gender']=='Female']['Happiness'].std()\n",
    "print std_male, std_female"
   ]
  },
  {
   "cell_type": "code",
   "execution_count": 102,
   "metadata": {
    "collapsed": false
   },
   "outputs": [
    {
     "name": "stdout",
     "output_type": "stream",
     "text": [
      "3.44444444444 3.84\n"
     ]
    }
   ],
   "source": [
    "mean_male = df[df['Gender']=='Male']['Happiness'].mean()\n",
    "mean_female = df[df['Gender']=='Female']['Happiness'].mean()\n",
    "print mean_male, mean_female"
   ]
  },
  {
   "cell_type": "code",
   "execution_count": 103,
   "metadata": {
    "collapsed": false
   },
   "outputs": [
    {
     "name": "stdout",
     "output_type": "stream",
     "text": [
      "18 25\n"
     ]
    }
   ],
   "source": [
    "n_male = len(df[df['Gender']=='Male'])\n",
    "n_female = len(df[df['Gender']=='Female'])\n",
    "print n_male, n_female"
   ]
  },
  {
   "cell_type": "code",
   "execution_count": 104,
   "metadata": {
    "collapsed": false
   },
   "outputs": [
    {
     "data": {
      "text/plain": [
       "-0.3955555555555552"
      ]
     },
     "execution_count": 104,
     "metadata": {},
     "output_type": "execute_result"
    }
   ],
   "source": [
    "t_numerator = mean_male - mean_female\n",
    "t_numerator"
   ]
  },
  {
   "cell_type": "code",
   "execution_count": 105,
   "metadata": {
    "collapsed": false
   },
   "outputs": [
    {
     "name": "stdout",
     "output_type": "stream",
     "text": [
      "15.2941176471\n",
      "15.2941176471\n"
     ]
    }
   ],
   "source": [
    "print n_male*std_male**2\n",
    "print n_male*(std_male**2)"
   ]
  },
  {
   "cell_type": "code",
   "execution_count": 106,
   "metadata": {
    "collapsed": false
   },
   "outputs": [
    {
     "data": {
      "text/plain": [
       "0.3343329503754988"
      ]
     },
     "execution_count": 106,
     "metadata": {},
     "output_type": "execute_result"
    }
   ],
   "source": [
    "t_denominator = math.sqrt(\n",
    "                    ( (n_male*std_male**2 + n_female*std_female**2) /(n_male + n_female - 2) )* \n",
    "                    ( (n_male + n_female)/(n_male*n_female) )\n",
    "                    ) \n",
    "t_denominator"
   ]
  },
  {
   "cell_type": "code",
   "execution_count": 107,
   "metadata": {
    "collapsed": false
   },
   "outputs": [
    {
     "data": {
      "text/plain": [
       "-1.183118669910625"
      ]
     },
     "execution_count": 107,
     "metadata": {},
     "output_type": "execute_result"
    }
   ],
   "source": [
    "t_numerator/t_denominator"
   ]
  },
  {
   "cell_type": "markdown",
   "metadata": {
    "collapsed": true
   },
   "source": [
    "## T-tests and Chi-Square Tests Using Statistical Packages"
   ]
  },
  {
   "cell_type": "markdown",
   "metadata": {},
   "source": [
    "A much easier way to do this, however, is to use pre-programmed statistical packages."
   ]
  },
  {
   "cell_type": "markdown",
   "metadata": {},
   "source": [
    "### T-Test"
   ]
  },
  {
   "cell_type": "markdown",
   "metadata": {},
   "source": [
    "For the t-test we'll use the *statsmodels* package. The t-test will return three values for us, as shown in the following block of code. "
   ]
  },
  {
   "cell_type": "code",
   "execution_count": 109,
   "metadata": {
    "collapsed": false
   },
   "outputs": [
    {
     "data": {
      "text/plain": [
       "'\\nReturns\\n-------\\ntstat : float\\n    test statisic   \\n    --> \"This is the t-statistic.\"\\n    --> \"It is the ratio of the mean of the difference to the standard error of the difference...\"\\npvalue : float\\n    pvalue of the t-test\\ndf : int or float\\n    degrees of freedom used in the t-test\\n'"
      ]
     },
     "execution_count": 109,
     "metadata": {},
     "output_type": "execute_result"
    }
   ],
   "source": [
    "import statsmodels.api as sm\n",
    "\n",
    "'''\n",
    "Returns\n",
    "-------\n",
    "tstat : float\n",
    "    test statisic   \n",
    "    --> \"This is the t-statistic.\"\n",
    "    --> \"It is the ratio of the mean of the difference to the standard error of the difference...\"\n",
    "pvalue : float\n",
    "    pvalue of the t-test\n",
    "df : int or float\n",
    "    degrees of freedom used in the t-test\n",
    "'''"
   ]
  },
  {
   "cell_type": "markdown",
   "metadata": {},
   "source": [
    "#### t-test for Gender and Sleep"
   ]
  },
  {
   "cell_type": "markdown",
   "metadata": {},
   "source": [
    "Let's first run a t-test on *Gender* and *Sleep*. Is there a statistically significant difference?"
   ]
  },
  {
   "cell_type": "code",
   "execution_count": 110,
   "metadata": {
    "collapsed": false
   },
   "outputs": [
    {
     "name": "stdout",
     "output_type": "stream",
     "text": [
      "(-0.99443804127771962, 0.32584266565161224, 41.0) \n",
      "\n",
      "t-stat: -0.994438041278 \n",
      "p-value: 0.325842665652 \n",
      "d.f.: 41.0\n"
     ]
    }
   ],
   "source": [
    "result = sm.stats.ttest_ind(df[df['Gender']=='Male']['Sleep'], \n",
    "          df[df['Gender']=='Female']['Sleep'])\n",
    "print result, '\\n'\n",
    "print 't-stat:', result[0], '\\n',\n",
    "print 'p-value:', result[1],  '\\n',\n",
    "print 'd.f.:', result[2]"
   ]
  },
  {
   "cell_type": "markdown",
   "metadata": {},
   "source": [
    "#### t-test for Gender and Happiness"
   ]
  },
  {
   "cell_type": "markdown",
   "metadata": {},
   "source": [
    "Now let's run a t-test on *Gender* and *Happiness*. Is there a statistically significant difference here?"
   ]
  },
  {
   "cell_type": "code",
   "execution_count": 111,
   "metadata": {
    "collapsed": false
   },
   "outputs": [
    {
     "name": "stdout",
     "output_type": "stream",
     "text": [
      "(-1.2106472949472984, 0.23296353748678086, 41.0) \n",
      "\n",
      "t-stat: -1.21064729495 \n",
      "p-value: 0.232963537487 \n",
      "d.f.: 41.0\n"
     ]
    }
   ],
   "source": [
    "result = sm.stats.ttest_ind(df[df['Gender']=='Male']['Happiness'], \n",
    "          df[df['Gender']=='Female']['Happiness'])\n",
    "print result, '\\n'\n",
    "print 't-stat:', result[0], '\\n',\n",
    "print 'p-value:', result[1],  '\\n',\n",
    "print 'd.f.:', result[2]"
   ]
  },
  {
   "cell_type": "markdown",
   "metadata": {},
   "source": [
    "### Chi-Square Test of Sleep and Happiness"
   ]
  },
  {
   "cell_type": "markdown",
   "metadata": {},
   "source": [
    "We can try one more test. Let's look at the relationship between *Low_Sleep* and *Happy*. We'll use the *scipy* package for this. First we import the relevant part of the package."
   ]
  },
  {
   "cell_type": "code",
   "execution_count": 112,
   "metadata": {
    "collapsed": true
   },
   "outputs": [],
   "source": [
    "import scipy.stats as scs"
   ]
  },
  {
   "cell_type": "markdown",
   "metadata": {},
   "source": [
    "<rb>The question mark after a command is used to open a *help* dialogue box for the given command. We can try it now."
   ]
  },
  {
   "cell_type": "code",
   "execution_count": 113,
   "metadata": {
    "collapsed": false
   },
   "outputs": [
    {
     "data": {
      "text/plain": [
       "'\\nReturns\\n-------\\nchi2 : float\\n    The test statistic.\\np : float\\n    The p-value of the test\\ndof : int\\n    Degrees of freedom\\nexpected : ndarray, same shape as `observed`\\n    The expected frequencies, based on the marginal sums of the table.\\n'"
      ]
     },
     "execution_count": 113,
     "metadata": {},
     "output_type": "execute_result"
    }
   ],
   "source": [
    "scs.chi2_contingency?\n",
    "'''\n",
    "Returns\n",
    "-------\n",
    "chi2 : float\n",
    "    The test statistic.\n",
    "p : float\n",
    "    The p-value of the test\n",
    "dof : int\n",
    "    Degrees of freedom\n",
    "expected : ndarray, same shape as `observed`\n",
    "    The expected frequencies, based on the marginal sums of the table.\n",
    "'''"
   ]
  },
  {
   "cell_type": "markdown",
   "metadata": {},
   "source": [
    "<br>Before running the Chi-squared command, let's take a look at the cross-tab of *Low_Sleep* and *Happy* -- recall that the cross-tabulated data forms the basis for the chi-squared test."
   ]
  },
  {
   "cell_type": "code",
   "execution_count": 114,
   "metadata": {
    "collapsed": false
   },
   "outputs": [
    {
     "data": {
      "text/html": [
       "<div>\n",
       "<table border=\"1\" class=\"dataframe\">\n",
       "  <thead>\n",
       "    <tr style=\"text-align: right;\">\n",
       "      <th>Happy</th>\n",
       "      <th>0</th>\n",
       "      <th>1</th>\n",
       "    </tr>\n",
       "    <tr>\n",
       "      <th>Low_Sleep</th>\n",
       "      <th></th>\n",
       "      <th></th>\n",
       "    </tr>\n",
       "  </thead>\n",
       "  <tbody>\n",
       "    <tr>\n",
       "      <th>0</th>\n",
       "      <td>1</td>\n",
       "      <td>14</td>\n",
       "    </tr>\n",
       "    <tr>\n",
       "      <th>1</th>\n",
       "      <td>17</td>\n",
       "      <td>11</td>\n",
       "    </tr>\n",
       "  </tbody>\n",
       "</table>\n",
       "</div>"
      ],
      "text/plain": [
       "Happy       0   1\n",
       "Low_Sleep        \n",
       "0           1  14\n",
       "1          17  11"
      ]
     },
     "execution_count": 114,
     "metadata": {},
     "output_type": "execute_result"
    }
   ],
   "source": [
    "pd.crosstab(df['Low_Sleep'], df['Happy'])"
   ]
  },
  {
   "cell_type": "markdown",
   "metadata": {},
   "source": [
    "<br>Now we're ready to run the chi-squared test. Is there a statistically significant difference?"
   ]
  },
  {
   "cell_type": "code",
   "execution_count": 115,
   "metadata": {
    "collapsed": false
   },
   "outputs": [
    {
     "name": "stdout",
     "output_type": "stream",
     "text": [
      "chi2: 9.60794047619 \n",
      "p: 0.00193737801281 \n",
      "# of obs: 43.0 \n",
      "dof: 1\n"
     ]
    }
   ],
   "source": [
    "result = scs.chi2_contingency(pd.crosstab(df['Low_Sleep'], df['Happy']))\n",
    "#print '\\n'\n",
    "print 'chi2:', result[0], '\\n',\n",
    "print 'p:', result[1],  '\\n',\n",
    "print '# of obs:', result[3].sum(), '\\n',\n",
    "print 'dof:', result[2]"
   ]
  },
  {
   "cell_type": "markdown",
   "metadata": {},
   "source": [
    "<br>\n",
    "\n",
    "For more Notebooks as well as additional Python and Big Data tutorials, please visit http://social-metrics.org or follow me on Twitter <a href='https://twitter.com/gregorysaxton'>@gregorysaxton</a>"
   ]
  }
 ],
 "metadata": {
  "kernelspec": {
   "display_name": "Python 2",
   "language": "python",
   "name": "python2"
  },
  "language_info": {
   "codemirror_mode": {
    "name": "ipython",
    "version": 2
   },
   "file_extension": ".py",
   "mimetype": "text/x-python",
   "name": "python",
   "nbconvert_exporter": "python",
   "pygments_lexer": "ipython2",
   "version": "2.7.11"
  }
 },
 "nbformat": 4,
 "nbformat_minor": 0
}
