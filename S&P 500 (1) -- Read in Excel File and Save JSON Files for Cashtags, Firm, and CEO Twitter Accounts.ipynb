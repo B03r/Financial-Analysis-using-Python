{
 "cells": [
  {
   "cell_type": "markdown",
   "metadata": {},
   "source": [
    "In this notebook I will read in an Excel file containing Twitter account details for the S&P 500 firms. I'll then modify the data as needed and then save three JSON files containing lists of, respectively, the firms' stock tickers, official firm Twitter accounts, and CEO Twitter accounts. We'll then use those lists in other notebooks to download the Twitter data."
   ]
  },
  {
   "cell_type": "code",
   "execution_count": 2,
   "metadata": {},
   "outputs": [],
   "source": [
    "import numpy as np\n",
    "import pandas as pd\n",
    "from pandas import DataFrame\n",
    "from pandas import Series"
   ]
  },
  {
   "cell_type": "code",
   "execution_count": 3,
   "metadata": {},
   "outputs": [],
   "source": [
    "# http://pandas.pydata.org/pandas-docs/stable/options.html\n",
    "pd.set_option('display.max_columns', None)\n",
    "# http://pandas.pydata.org/pandas-docs/stable/options.html\n",
    "pd.set_option('display.max_colwidth', 250)"
   ]
  },
  {
   "cell_type": "code",
   "execution_count": 4,
   "metadata": {},
   "outputs": [
    {
     "name": "stdout",
     "output_type": "stream",
     "text": [
      "C:\\Users\\Gregory\\S&P500\n"
     ]
    }
   ],
   "source": [
    "cd C:\\\\Users\\\\Gregory\\\\S&P500"
   ]
  },
  {
   "cell_type": "markdown",
   "metadata": {},
   "source": [
    "<br>Read in company data file with stock tickers and Twitter account names for firms and CEOs"
   ]
  },
  {
   "cell_type": "code",
   "execution_count": 24,
   "metadata": {},
   "outputs": [
    {
     "name": "stdout",
     "output_type": "stream",
     "text": [
      "# of columns: 9\n",
      "# of observations: 508\n"
     ]
    },
    {
     "data": {
      "text/html": [
       "<div>\n",
       "<style scoped>\n",
       "    .dataframe tbody tr th:only-of-type {\n",
       "        vertical-align: middle;\n",
       "    }\n",
       "\n",
       "    .dataframe tbody tr th {\n",
       "        vertical-align: top;\n",
       "    }\n",
       "\n",
       "    .dataframe thead th {\n",
       "        text-align: right;\n",
       "    }\n",
       "</style>\n",
       "<table border=\"1\" class=\"dataframe\">\n",
       "  <thead>\n",
       "    <tr style=\"text-align: right;\">\n",
       "      <th></th>\n",
       "      <th>Symbol</th>\n",
       "      <th>Security</th>\n",
       "      <th>GICS Sector</th>\n",
       "      <th>GICS Sub Industry</th>\n",
       "      <th>Headquarters Location</th>\n",
       "      <th>CIK</th>\n",
       "      <th>Company Twitter account</th>\n",
       "      <th>CEO name</th>\n",
       "      <th>CEO Twitter account</th>\n",
       "    </tr>\n",
       "  </thead>\n",
       "  <tbody>\n",
       "    <tr>\n",
       "      <th>0</th>\n",
       "      <td>MMM</td>\n",
       "      <td>3M Company</td>\n",
       "      <td>Industrials</td>\n",
       "      <td>Industrial Conglomerates</td>\n",
       "      <td>St. Paul, Minnesota</td>\n",
       "      <td>66740.0</td>\n",
       "      <td>https://twitter.com/3M</td>\n",
       "      <td>Mike Roman</td>\n",
       "      <td>N/F</td>\n",
       "    </tr>\n",
       "    <tr>\n",
       "      <th>1</th>\n",
       "      <td>ABT</td>\n",
       "      <td>Abbott Laboratories</td>\n",
       "      <td>Health Care</td>\n",
       "      <td>Health Care Equipment</td>\n",
       "      <td>North Chicago, Illinois</td>\n",
       "      <td>1800.0</td>\n",
       "      <td>https://twitter.com/AbbottNews</td>\n",
       "      <td>Robert Ford</td>\n",
       "      <td>N/F</td>\n",
       "    </tr>\n",
       "  </tbody>\n",
       "</table>\n",
       "</div>"
      ],
      "text/plain": [
       "  Symbol             Security  GICS Sector         GICS Sub Industry  \\\n",
       "0    MMM           3M Company  Industrials  Industrial Conglomerates   \n",
       "1    ABT  Abbott Laboratories  Health Care     Health Care Equipment   \n",
       "\n",
       "     Headquarters Location      CIK         Company Twitter account  \\\n",
       "0      St. Paul, Minnesota  66740.0          https://twitter.com/3M   \n",
       "1  North Chicago, Illinois   1800.0  https://twitter.com/AbbottNews   \n",
       "\n",
       "      CEO name CEO Twitter account  \n",
       "0   Mike Roman                 N/F  \n",
       "1  Robert Ford                 N/F  "
      ]
     },
     "execution_count": 24,
     "metadata": {},
     "output_type": "execute_result"
    }
   ],
   "source": [
    "df = pd.read_excel('S&P 500 & CEO twitter accounts_updated 8.27.2020.xls')\n",
    "print('# of columns:', len(df.columns))\n",
    "print('# of observations:', len(df))\n",
    "df[:2]"
   ]
  },
  {
   "cell_type": "markdown",
   "metadata": {},
   "source": [
    "### Edit firm and CEO Twitter account values\n",
    "Remove 'N/F' values from *Company Twitter account* and *CEO Twitter account*"
   ]
  },
  {
   "cell_type": "code",
   "execution_count": 29,
   "metadata": {},
   "outputs": [
    {
     "data": {
      "text/html": [
       "<div>\n",
       "<style scoped>\n",
       "    .dataframe tbody tr th:only-of-type {\n",
       "        vertical-align: middle;\n",
       "    }\n",
       "\n",
       "    .dataframe tbody tr th {\n",
       "        vertical-align: top;\n",
       "    }\n",
       "\n",
       "    .dataframe thead th {\n",
       "        text-align: right;\n",
       "    }\n",
       "</style>\n",
       "<table border=\"1\" class=\"dataframe\">\n",
       "  <thead>\n",
       "    <tr style=\"text-align: right;\">\n",
       "      <th></th>\n",
       "      <th>Symbol</th>\n",
       "      <th>Security</th>\n",
       "      <th>GICS Sector</th>\n",
       "      <th>GICS Sub Industry</th>\n",
       "      <th>Headquarters Location</th>\n",
       "      <th>CIK</th>\n",
       "      <th>Company Twitter account</th>\n",
       "      <th>CEO name</th>\n",
       "      <th>CEO Twitter account</th>\n",
       "    </tr>\n",
       "  </thead>\n",
       "  <tbody>\n",
       "    <tr>\n",
       "      <th>25</th>\n",
       "      <td>MO</td>\n",
       "      <td>Altria Group Inc</td>\n",
       "      <td>Consumer Staples</td>\n",
       "      <td>Tobacco</td>\n",
       "      <td>Richmond, Virginia</td>\n",
       "      <td>764180.0</td>\n",
       "      <td>https://twitter.com/AltriaNews</td>\n",
       "      <td>Billy Gifford</td>\n",
       "      <td></td>\n",
       "    </tr>\n",
       "    <tr>\n",
       "      <th>26</th>\n",
       "      <td>AMZN</td>\n",
       "      <td>Amazon.com Inc.</td>\n",
       "      <td>Consumer Discretionary</td>\n",
       "      <td>Internet &amp; Direct Marketing Retail</td>\n",
       "      <td>Seattle, Washington</td>\n",
       "      <td>1018724.0</td>\n",
       "      <td>https://twitter.com/amazon</td>\n",
       "      <td>Jeff Bezos</td>\n",
       "      <td>https://twitter.com/JeffBezos</td>\n",
       "    </tr>\n",
       "    <tr>\n",
       "      <th>27</th>\n",
       "      <td>AMCR</td>\n",
       "      <td>Amcor plc</td>\n",
       "      <td>Materials</td>\n",
       "      <td>Paper Packaging</td>\n",
       "      <td>Warmley, Bristol, United Kingdom</td>\n",
       "      <td>1748790.0</td>\n",
       "      <td></td>\n",
       "      <td>Ronald Stephen Delia</td>\n",
       "      <td></td>\n",
       "    </tr>\n",
       "    <tr>\n",
       "      <th>28</th>\n",
       "      <td>AEE</td>\n",
       "      <td>Ameren Corp</td>\n",
       "      <td>Utilities</td>\n",
       "      <td>Multi-Utilities</td>\n",
       "      <td>St. Louis, Missouri</td>\n",
       "      <td>1002910.0</td>\n",
       "      <td>https://twitter.com/AmerenCorp</td>\n",
       "      <td>Warner Baxter</td>\n",
       "      <td></td>\n",
       "    </tr>\n",
       "    <tr>\n",
       "      <th>29</th>\n",
       "      <td>AAL</td>\n",
       "      <td>American Airlines Group</td>\n",
       "      <td>Industrials</td>\n",
       "      <td>Airlines</td>\n",
       "      <td>Fort Worth, Texas</td>\n",
       "      <td>6201.0</td>\n",
       "      <td>https://twitter.com/AmericanAir</td>\n",
       "      <td>Doug Parker</td>\n",
       "      <td></td>\n",
       "    </tr>\n",
       "  </tbody>\n",
       "</table>\n",
       "</div>"
      ],
      "text/plain": [
       "   Symbol                 Security             GICS Sector  \\\n",
       "25     MO         Altria Group Inc        Consumer Staples   \n",
       "26   AMZN          Amazon.com Inc.  Consumer Discretionary   \n",
       "27   AMCR                Amcor plc               Materials   \n",
       "28    AEE              Ameren Corp               Utilities   \n",
       "29    AAL  American Airlines Group             Industrials   \n",
       "\n",
       "                     GICS Sub Industry             Headquarters Location  \\\n",
       "25                             Tobacco                Richmond, Virginia   \n",
       "26  Internet & Direct Marketing Retail               Seattle, Washington   \n",
       "27                     Paper Packaging  Warmley, Bristol, United Kingdom   \n",
       "28                     Multi-Utilities               St. Louis, Missouri   \n",
       "29                            Airlines                 Fort Worth, Texas   \n",
       "\n",
       "          CIK          Company Twitter account              CEO name  \\\n",
       "25   764180.0   https://twitter.com/AltriaNews         Billy Gifford   \n",
       "26  1018724.0       https://twitter.com/amazon            Jeff Bezos   \n",
       "27  1748790.0                                   Ronald Stephen Delia   \n",
       "28  1002910.0   https://twitter.com/AmerenCorp         Warner Baxter   \n",
       "29     6201.0  https://twitter.com/AmericanAir           Doug Parker   \n",
       "\n",
       "              CEO Twitter account  \n",
       "25                                 \n",
       "26  https://twitter.com/JeffBezos  \n",
       "27                                 \n",
       "28                                 \n",
       "29                                 "
      ]
     },
     "execution_count": 29,
     "metadata": {},
     "output_type": "execute_result"
    }
   ],
   "source": [
    "df['Company Twitter account'] = np.where(df['Company Twitter account']=='N/F', '', df['Company Twitter account'])\n",
    "df['CEO Twitter account'] = np.where(df['CEO Twitter account']=='N/F', '', df['CEO Twitter account'])\n",
    "df[25:30]"
   ]
  },
  {
   "cell_type": "markdown",
   "metadata": {},
   "source": [
    "### Save tickers list"
   ]
  },
  {
   "cell_type": "code",
   "execution_count": 30,
   "metadata": {},
   "outputs": [
    {
     "name": "stdout",
     "output_type": "stream",
     "text": [
      "508 508\n"
     ]
    },
    {
     "data": {
      "text/plain": [
       "['MMM', 'ABT', 'ABBV', 'ABMD', 'ACN']"
      ]
     },
     "execution_count": 30,
     "metadata": {},
     "output_type": "execute_result"
    }
   ],
   "source": [
    "tickers = df['Symbol'].tolist()\n",
    "print(len(tickers), len(set(tickers)))\n",
    "tickers[:5]"
   ]
  },
  {
   "cell_type": "code",
   "execution_count": 31,
   "metadata": {},
   "outputs": [],
   "source": [
    "import json \n",
    "with open('sp500_tickers.json', 'w') as fp:\n",
    "    json.dump(tickers, fp)"
   ]
  },
  {
   "cell_type": "markdown",
   "metadata": {},
   "source": [
    "### Edit and save firm Twitter account list\n",
    "Use *set* command to remove duplcates"
   ]
  },
  {
   "cell_type": "code",
   "execution_count": 33,
   "metadata": {},
   "outputs": [
    {
     "name": "stdout",
     "output_type": "stream",
     "text": [
      "508 458\n",
      "458\n"
     ]
    },
    {
     "data": {
      "text/plain": [
       "['',\n",
       " 'https://twitter.com/skyworksinc',\n",
       " 'https://twitter.com/DominionEnergy',\n",
       " 'https://twitter.com/Cisco',\n",
       " 'https://twitter.com/Huntington_Bank']"
      ]
     },
     "execution_count": 33,
     "metadata": {},
     "output_type": "execute_result"
    }
   ],
   "source": [
    "firms = df['Company Twitter account'].tolist()\n",
    "print(len(firms), len(set(firms)))\n",
    "firms = list(set(firms))\n",
    "print(len(firms))\n",
    "firms[:5]"
   ]
  },
  {
   "cell_type": "markdown",
   "metadata": {},
   "source": [
    "<br>Check whether numeric 'missing' value is in firm list"
   ]
  },
  {
   "cell_type": "code",
   "execution_count": 43,
   "metadata": {},
   "outputs": [
    {
     "data": {
      "text/plain": [
       "False"
      ]
     },
     "execution_count": 43,
     "metadata": {},
     "output_type": "execute_result"
    }
   ],
   "source": [
    "np.nan in firms"
   ]
  },
  {
   "cell_type": "markdown",
   "metadata": {},
   "source": [
    "<br>Remove '' value from list"
   ]
  },
  {
   "cell_type": "code",
   "execution_count": 36,
   "metadata": {},
   "outputs": [
    {
     "name": "stdout",
     "output_type": "stream",
     "text": [
      "457\n"
     ]
    },
    {
     "data": {
      "text/plain": [
       "['https://twitter.com/skyworksinc',\n",
       " 'https://twitter.com/DominionEnergy',\n",
       " 'https://twitter.com/Cisco',\n",
       " 'https://twitter.com/Huntington_Bank',\n",
       " 'https://twitter.com/alphabetlnc']"
      ]
     },
     "execution_count": 36,
     "metadata": {},
     "output_type": "execute_result"
    }
   ],
   "source": [
    "firms.remove('')\n",
    "print(len(firms))\n",
    "firms[:5]"
   ]
  },
  {
   "cell_type": "markdown",
   "metadata": {},
   "source": [
    "<br>Remove 'https://twitter.com/' from each account name"
   ]
  },
  {
   "cell_type": "code",
   "execution_count": 37,
   "metadata": {},
   "outputs": [
    {
     "name": "stdout",
     "output_type": "stream",
     "text": [
      "457 457\n",
      "457\n"
     ]
    },
    {
     "data": {
      "text/plain": [
       "['FISGlobal', 'CharlesSchwab', 'generalelectric', 'PNCBank', 'comcast']"
      ]
     },
     "execution_count": 37,
     "metadata": {},
     "output_type": "execute_result"
    }
   ],
   "source": [
    "firms = [f.replace('https://twitter.com/', '') for f in firms]\n",
    "print(len(firms), len(set(firms)))\n",
    "firms = list(set(firms))\n",
    "print(len(firms))\n",
    "firms[:5]"
   ]
  },
  {
   "cell_type": "markdown",
   "metadata": {},
   "source": [
    "<br>Save list in JSON format"
   ]
  },
  {
   "cell_type": "code",
   "execution_count": 52,
   "metadata": {},
   "outputs": [],
   "source": [
    "import json \n",
    "with open('sp500_firms.json', 'w') as fp:\n",
    "    json.dump(firms, fp)"
   ]
  },
  {
   "cell_type": "markdown",
   "metadata": {},
   "source": [
    "### Save CEO Twitter account list"
   ]
  },
  {
   "cell_type": "code",
   "execution_count": 48,
   "metadata": {},
   "outputs": [
    {
     "name": "stdout",
     "output_type": "stream",
     "text": [
      "508 77\n",
      "77\n"
     ]
    },
    {
     "data": {
      "text/plain": [
       "['',\n",
       " nan,\n",
       " 'https://twitter.com/MikeSievert',\n",
       " 'https://twitter.com/MattMaddox_',\n",
       " 'https://twitter.com/PatrickKDecker']"
      ]
     },
     "execution_count": 48,
     "metadata": {},
     "output_type": "execute_result"
    }
   ],
   "source": [
    "ceos = df['CEO Twitter account'].tolist()\n",
    "print(len(ceos), len(set(ceos)))\n",
    "ceos = list(set(ceos))\n",
    "print(len(ceos))\n",
    "ceos[:5]"
   ]
  },
  {
   "cell_type": "code",
   "execution_count": 49,
   "metadata": {},
   "outputs": [
    {
     "data": {
      "text/plain": [
       "True"
      ]
     },
     "execution_count": 49,
     "metadata": {},
     "output_type": "execute_result"
    }
   ],
   "source": [
    "np.nan in ceos"
   ]
  },
  {
   "cell_type": "code",
   "execution_count": 50,
   "metadata": {},
   "outputs": [
    {
     "name": "stdout",
     "output_type": "stream",
     "text": [
      "75\n"
     ]
    },
    {
     "data": {
      "text/plain": [
       "['https://twitter.com/MikeSievert',\n",
       " 'https://twitter.com/MattMaddox_',\n",
       " 'https://twitter.com/PatrickKDecker',\n",
       " 'https://twitter.com/Corie_Barry',\n",
       " 'https://twitter.com/stevemollenkopf']"
      ]
     },
     "execution_count": 50,
     "metadata": {},
     "output_type": "execute_result"
    }
   ],
   "source": [
    "ceos.remove('')\n",
    "ceos.remove(np.nan)\n",
    "print(len(ceos))\n",
    "ceos[:5]"
   ]
  },
  {
   "cell_type": "code",
   "execution_count": 51,
   "metadata": {},
   "outputs": [
    {
     "name": "stdout",
     "output_type": "stream",
     "text": [
      "75 75\n",
      "75\n"
     ]
    },
    {
     "data": {
      "text/plain": [
       "['micronceo', 'Corie_Barry', 'gary_kelly', 'KenXieFortinet', 'ThomasAFanning']"
      ]
     },
     "execution_count": 51,
     "metadata": {},
     "output_type": "execute_result"
    }
   ],
   "source": [
    "ceos = [c.replace('https://twitter.com/', '') for c in ceos]\n",
    "print(len(ceos), len(set(ceos)))\n",
    "ceos = list(set(ceos))\n",
    "print(len(ceos))\n",
    "ceos[:5]"
   ]
  },
  {
   "cell_type": "code",
   "execution_count": 53,
   "metadata": {},
   "outputs": [],
   "source": [
    "import json \n",
    "with open('sp500_ceos.json', 'w') as fp:\n",
    "    json.dump(ceos, fp)"
   ]
  }
 ],
 "metadata": {
  "anaconda-cloud": {},
  "kernelspec": {
   "display_name": "Python 3",
   "language": "python",
   "name": "python3"
  },
  "language_info": {
   "codemirror_mode": {
    "name": "ipython",
    "version": 3
   },
   "file_extension": ".py",
   "mimetype": "text/x-python",
   "name": "python",
   "nbconvert_exporter": "python",
   "pygments_lexer": "ipython3",
   "version": "3.7.6"
  },
  "toc": {
   "colors": {
    "hover_highlight": "#DAA520",
    "navigate_num": "#000000",
    "navigate_text": "#333333",
    "running_highlight": "#FF0000",
    "selected_highlight": "#FFD700",
    "sidebar_border": "#EEEEEE",
    "wrapper_background": "#FFFFFF"
   },
   "moveMenuLeft": true,
   "nav_menu": {
    "height": "48px",
    "width": "252px"
   },
   "navigate_menu": true,
   "number_sections": true,
   "sideBar": true,
   "threshold": 4,
   "toc_cell": false,
   "toc_section_display": "block",
   "toc_window_display": false,
   "widenNotebook": false
  }
 },
 "nbformat": 4,
 "nbformat_minor": 2
}
